{
 "cells": [
  {
   "cell_type": "markdown",
   "metadata": {},
   "source": [
    "## THIS CODE WAS RUN ON KAGGLE"
   ]
  },
  {
   "cell_type": "code",
   "execution_count": null,
   "metadata": {
    "execution": {
     "iopub.execute_input": "2025-04-08T16:17:50.372302Z",
     "iopub.status.busy": "2025-04-08T16:17:50.371892Z",
     "iopub.status.idle": "2025-04-08T16:19:17.000678Z",
     "shell.execute_reply": "2025-04-08T16:19:16.999785Z",
     "shell.execute_reply.started": "2025-04-08T16:17:50.372277Z"
    },
    "trusted": true
   },
   "outputs": [
    {
     "name": "stdout",
     "output_type": "stream",
     "text": [
      "Successfully loaded: /kaggle/input/wikipedia-index-and-plaintext-20230801/articles/y.csv/y.csv\n",
      "Successfully loaded: /kaggle/input/wikipedia-index-and-plaintext-20230801/articles/o.csv/o.csv\n",
      "Successfully loaded: /kaggle/input/wikipedia-index-and-plaintext-20230801/articles/s.csv/s.csv\n",
      "Successfully loaded: /kaggle/input/wikipedia-index-and-plaintext-20230801/articles/1.csv/1.csv\n",
      "Successfully loaded: /kaggle/input/wikipedia-index-and-plaintext-20230801/articles/i.csv/i.csv\n",
      "Successfully loaded: /kaggle/input/wikipedia-index-and-plaintext-20230801/articles/3.csv/3.csv\n",
      "Successfully loaded: /kaggle/input/wikipedia-index-and-plaintext-20230801/articles/q.csv/q.csv\n",
      "Successfully loaded: /kaggle/input/wikipedia-index-and-plaintext-20230801/articles/h.csv/h.csv\n",
      "Successfully loaded: /kaggle/input/wikipedia-index-and-plaintext-20230801/articles/5.csv/5.csv\n",
      "Successfully loaded: /kaggle/input/wikipedia-index-and-plaintext-20230801/articles/2.csv/2.csv\n",
      "Combined dataframe shape: (3948913, 5)\n"
     ]
    }
   ],
   "source": [
    "import pandas as pd\n",
    "import os\n",
    "import glob\n",
    "\n",
    "base_dir = '/kaggle/input/wikipedia-index-and-plaintext-20230801/articles/'\n",
    "\n",
    "file_paths = glob.glob(os.path.join(base_dir, '*/*.csv'))\n",
    "\n",
    "dataframes = []\n",
    "\n",
    "for file_path in file_paths:\n",
    "    try:\n",
    "        df = pd.read_csv(file_path)\n",
    "        dataframes.append(df)\n",
    "        print(f\"Successfully loaded: {file_path}\")\n",
    "    except Exception as e:\n",
    "        print(f\"Error loading {file_path}: {e}\")\n",
    "\n",
    "if dataframes:\n",
    "    combined_df = pd.concat(dataframes, ignore_index=True)\n",
    "    print(f\"Combined dataframe shape: {combined_df.shape}\")\n",
    "else:\n",
    "    print(\"No dataframes were successfully loaded.\")\n"
   ]
  },
  {
   "cell_type": "code",
   "execution_count": 3,
   "metadata": {
    "execution": {
     "iopub.execute_input": "2025-04-08T16:19:17.002003Z",
     "iopub.status.busy": "2025-04-08T16:19:17.001750Z",
     "iopub.status.idle": "2025-04-08T16:19:17.012633Z",
     "shell.execute_reply": "2025-04-08T16:19:17.011783Z",
     "shell.execute_reply.started": "2025-04-08T16:19:17.001980Z"
    },
    "trusted": true
   },
   "outputs": [
    {
     "data": {
      "text/plain": [
       "id                                                    3864\n",
       "revid                                           1185941266\n",
       "url               https://en.wikipedia.org/wiki?curid=3864\n",
       "title                                    2001 World Series\n",
       "text     The 2001 World Series was the championship ser...\n",
       "Name: 0, dtype: object"
      ]
     },
     "execution_count": 3,
     "metadata": {},
     "output_type": "execute_result"
    }
   ],
   "source": [
    "df.iloc[0]"
   ]
  },
  {
   "cell_type": "code",
   "execution_count": 4,
   "metadata": {
    "execution": {
     "iopub.execute_input": "2025-04-08T16:19:17.014735Z",
     "iopub.status.busy": "2025-04-08T16:19:17.014487Z",
     "iopub.status.idle": "2025-04-08T16:19:17.060478Z",
     "shell.execute_reply": "2025-04-08T16:19:17.059713Z",
     "shell.execute_reply.started": "2025-04-08T16:19:17.014715Z"
    },
    "trusted": true
   },
   "outputs": [
    {
     "name": "stdout",
     "output_type": "stream",
     "text": [
      "249357\n"
     ]
    }
   ],
   "source": [
    "null_counts = df[\"text\"].isnull().sum()\n",
    "print(null_counts)"
   ]
  },
  {
   "cell_type": "code",
   "execution_count": null,
   "metadata": {
    "execution": {
     "iopub.execute_input": "2025-04-08T16:19:17.061727Z",
     "iopub.status.busy": "2025-04-08T16:19:17.061485Z",
     "iopub.status.idle": "2025-04-08T16:19:48.092001Z",
     "shell.execute_reply": "2025-04-08T16:19:48.091104Z",
     "shell.execute_reply.started": "2025-04-08T16:19:17.061707Z"
    },
    "trusted": true
   },
   "outputs": [
    {
     "name": "stdout",
     "output_type": "stream",
     "text": [
      "Missing values before processing: 249357\n",
      "\n",
      "Sample cleaned text:\n",
      "the 2001 world series was the championship series of major league baseballs mlb 2001 season the 97th edition of the world series it was a bestofseven playoff between the national league nl champion arizona diamondbacks and the threetime defending world series champions and american league al champion new york yankees the underdog diamondbacks defeated the heavily favored yankees four games to three to win the series considered one of the greatest world series of all time its memorable aspects included two extrainning games and three lateinning comebacks diamondbacks pitchers randy johnson and curt schilling were both named world series most valuable players the yankees advanced to the world series by defeating the oakland athletics three games to two in the al division series and then the seattle mariners in the al championship series four games to one it was the yankees fourth consecutive world series appearance after winning championships in   and  the diamondbacks advanced to the world series by defeating the st louis cardinals three games to two in the nl division series and then the atlanta braves in the nl championship series four games to one it was the franchises first appearance in a world series the series began later than usual as a result of a delay in the regular season after the september 11 attacks and was the first to extend into november the diamondbacks won the first two games at home limiting the yankees to just one run the yankees responded with a close win in game 3 at which us president george w bush threw out the ceremonial first pitch in games 4 and 5 the yankees won in comeback fashion hitting gametying home runs off diamondbacks closer byunghyun kim with one out remaining in consecutive games before winning in extra innings the diamondbacks won game 6 in a blowout forcing a decisive game 7 in the final game the yankees led in the ninth inning before the diamondbacks staged a comeback against closer mariano rivera capped off by a walkoff basesloaded bloop single by luis gonzalez to clinch arizonas championship victory this was the third world series to end in a basesloaded walkoff hit following and  and to this date the last series to end on a walkoff of any kind this series held the record for the latest date that a series ended november 4th until that record was tied during the 2009 world series and broken during the 2022 world series among several firsts the 2001 world series was the first world series championship for the diamondbacks the first world series played in the state of arizona or the mountain time zone the first championship for a far west state other than california the first major professional sports team from the state of arizona to win a championship and the earliest an mlb franchise had won a world series the diamondbacks had only existed for four years the home team won every game in the series which had only happened twice before in 1987 and 1991 both won by the minnesota twins the diamondbacks outscored the yankees 3714 as a result of large margins of victory achieved by arizona at bank one ballpark now known as chase field relative to the onerun margins the yankees achieved at yankee stadium arizonas pitching held powerhouse new york to a 183 batting average the lowest in a sevengame world series ever surpassing the st louis cardinals who hit 185 in the 1985 world series this and the 2002 world series were the last two consecutive world series to have game sevens until the world series of 2016 and 2017 the 2001 world series was the subject of an hbo documentary nine innings from ground zero in 2004 background arizona diamondbacks the arizona diamondbacks began play in 1998 along with the tampa bay devil rays as the youngest expansion team in major league baseball mlb after a mediocre debut season the diamondbacks finished the following year first in the national league nl west with a record but lost to the new york mets in the nl division series with several allstar players like randy johnson and matt williams the diamondbacks had high expectations for the 2000 season but finished third in the nl west with an record during the offseason team manager buck showalter was fired and replaced by sportscaster bob brenly the diamondbacks acquired several notable free agent players during the offseason including miguel batista mark grace and reggie sanders most of the diamondbacks players were above the age of 30 and had already played on a number of teams prior to the 2001 season in fact the diamondbacks starting lineup for the world series did not include a player under the age of 31 making them the oldest team by player age in world series history with several players nearing the age of retirement luis gonzalez noted that the overall team mentality was theres too many good guys in here to let this opportunity slip away although the diamondbacks were only one game above 500 by the end of april gonzalez had a particularly memorable start to the season in which he tied the mlb record with 13 home runs during the month of april the diamondbacks found greater success in may and june and at one point at a sixgame lead in the nl west during this span the team won nine consecutive games and johnson tied the mlb record with 20 strikeouts in a nineinning game the six game lead did not last long however and by the end of july the diamondbacks were a half game behind the los angeles dodgers in the west a resurgent august pushed the team back into first place a spot they maintained for the rest of the season by the end of the season several diamondbacks players had put up exceptional statistics curt schilling had the most wins of any pitcher in mlb that year with 22 while johnson nearly broke the single season strikeout record with 372 johnson and schilling also had the two lowest earned run averages era in the nl with 249 and 298 respectively gonzalez ended the season with a 325 batting average and 57 home runs and finished third in voting for the nl most valuable player award the diamondbacks were also one of the best defensive teams in mlb that year second in fewest errors committed and tied with the seattle mariners for the best fielding percentage the diamondbacks entered the postseason as the 2 seed in the national league and played the 4 seed st louis cardinals in the nl division series schilling threw a shutout in game 1 to give the diamondbacks an early series lead but the cardinals won game 2 thanks to a tworun home run from albert pujols craig counsell hit a threerun home run late in game 3 to give the diamondbacks a 21 series lead but the cardinals won game 4 with strong pitching performances from bud smith and their relief pitchers the diamondbacks clinched the series in game 5 when tony womack hit a game winning single that scored danny bautista they then faced the third seeded atlanta braves in the nl championship series johnson also threw a shutout in game 1 while the braves hit three home runs in game 2 to tie the series at one game apiece schilling threw a complete game in game 3 and the diamondbacks scored 11 runs in a game 4 victory to take a 31 series lead the diamondbacks clinched the series in game 5 with another strong performance from johnson with the win they became the fastest expansion team to reach the world series in just their fourth year of play new york yankees in contrast to the diamondbacks the new york yankees were one of the oldest and most recognized teams in all of north american sports the yankees had built a dynasty in the late 1990s that extended into 2000 which included winning three consecutive world series and four of the last five these teams were led by a group of talented young players that became known as the core four derek jeter andy pettitte jorge posada and mariano rivera following the yankees win over the braves in the 1999 world series sportscaster bob costas called the yankees the team of the decade and most successful franchise of the century the yankees finished the 2001 season in first place in the al east with a winloss record of a winning percentage of  games ahead of the boston red sox good enough to secure the 2 seed in the american league playoff bracket the yankees then defeated the fourth seeded oakland athletics 3 games to 2 in the al division series after losing 2 games at home and the top seeded seattle mariners 4 games to 1 in the al championship series to advance to their fourth consecutive world series and fifth in six years derek jeter and tino martinez led the yankees offensively during the 2001 season jeter batted 311 with 21 home runs and 74 rbi in 150 games while martinez batted 280 with 34 home runs and 113 rbi in 154 games roger clemens and mike mussina were the leaders of the yankees pitching staff clemens who won the cy young award his sixth of a career total and major league record 7 finished with a winloss record of 203 an earnedrun average era of 351 and struck out 213 batters in 2201 innings pitched and was by far the yankees best starter in the world series mussina finished with a winloss record of 1711 an era of 315 and struck out 214 batters in 2282 innings pitched september 11 and the month of november after mlb games were postponed as a result of the september 11 attacks the world series began on october 27 2001 the latest start date for a world series until the 2009 world series which started on october 28 the last three games were the first majorleague games other than exhibitions played in the month of november this was just the fourth time that no world series champion was decided within the traditional month of october the previous three occurrences were in no series series held in september because of world war i and series cancelled by the players strike game 7 was played on november 4 at the time this was the latest date a world series game was played and still tied with game 6 of the 2009 series for the secondlatest date of a world series game only behind s game 6 played on november 5 additionally the series took place in new york city only seven weeks after the attacks representing a remarkable boost in morale for the fatigued city a tattered and torn american flag recovered from the wreckage at ground zero which had been used at funerals of fallen port authority police officers after the attacks was flown over yankee stadium during the series according to port authority sergeant antonio scannella we wanted a place america could see this flag so they could see the rips in it but it still flies president george w bush threw out the ceremonial first pitch before game 3 at yankee stadium bush had been counseled by security officials to appear before game 1 in phoenix because they believed it would be more secure there but bush thought it would be better for the country to do it in new york security was extremely tight at yankee stadium before the game with bomb sniffing dogs sweeping the property snipers positioned around the stadium and vendors screened by federal agents a secret service agent dressed as an umpire and stood on the field with the other umpires before the game briefly appearing on the tv broadcast bush wore a bulletproof vest underneath an fdny sweater having been counseled by derek jeter to throw from the rubber on top of the pitchers mound rather than the base of the mound bush strode to the rubber gave a thumbs up to the crowd and fired a strike over home plate as the crowd chanted usa bush later reflected i had never had such an adrenaline rush as when i finally made it to the mound i was saying to the crowd im with you the countrys with you  and i wound up and fired the pitch ive been to conventions and rallies and speeches ive never felt anything so powerful and emotions so strong and the collective will of the crowd so evident matchups game 1 the series commenced on october 27 which was the latest a world series had started beating the previous record by four days 1999 world series october 23 the yankees struck first in game 1 when derek jeter was hit by a pitch with one out in the first and scored on bernie williamss double two batters later however arizonas curt schilling and two relievers mike morgan and greg swindell held the yankees scoreless afterward they managed to get only two walks and two hits for the rest of the game scott brosiuss double in the second and jorge posadas single in the fourth both with two outs meanwhile the diamondbacks tied the game on craig counsells oneout home run in the first off of mike mussina after a scoreless second mussina led off the third by hitting tony womack with a pitch he moved to second on counsells sacrifice bunt before luis gonzalezs home run put the diamondbacks up 31 a single and right fielder david justices error put runners on second and third before matt williamss sacrifice fly put arizona up 41 after mark grace was intentionally walked damian millers rbi double gave arizona a 51 lead next inning gonzalez hit a twoout double off of randy choate reggie sanders was intentionally walked before gonzalez scored on steve finleys single an error by third baseman brosius scored sanders put finley at third and williams at second both men scored on mark graces double putting arizona up 91 though the diamondbacks got just one more hit for the rest of the game off of sterling hitchcock and mike stanton williams leadoff single in the seventh they went up 10 in the series the diamondbacks win in game 1 was the first world series game won by a nonnew york city team since 1997 in every world series between 1997 and 2001 either both teams were from new york city or a new york city team won in a sweep 1998 and 1999 game 2 arizona continued to take control of the series with the strong pitching performance of randy johnson the big unit pitched a completegame shutout allowing only four baserunners and three hits while striking out 11 yankees andy pettitte meanwhile nearly matched him retiring arizona in order in five of the seven innings he pitched in the second he allowed a leadoff single to reggie sanders who scored on danny bautistas double bautista was the only arizona runner stranded for the entire game in the seventh pettitte hit luis gonzalez with a pitch before sanders grounded into a forceout after bautista singled matt williamss threerun home run put arizona up 40 they won the game with that score and led the series two games to none as it moved to new york city this was the 1000th game played in the history of the mlb postseason game 3 the game was opened in new york city by president george w bush who threw the ceremonial first pitch a strike to yankees backup catcher todd greene bush became the first incumbent us president to throw a world series first pitch since jimmy carter in  he also threw the baseball from the mound where the pitcher would be set unlike most ceremonial first pitches which are from in front of the mound and threw it for a strike chants of usa usa rang throughout yankee stadium yankees starter roger clemens was outstanding allowing only three hits and struck out nine in seven innings of work yankees closer mariano rivera pitched two innings for the save jorge posadas leadoff home run off of brian anderson in the second put the yankees up 10 the diamondbacks loaded the bases in the fourth on two walks and one hit before matt williamss sacrifice fly tied the game bernie williams hit a leadoff single in the sixth and moved to second on a wild pitch one out later before posada walked mike morgan relieved anderson and struck out david justice before scott brosius broke the tie with an rbi single that would be all the scoring as morgan and greg swindell pitched the rest of the game for the diamondbacks the yankees cut arizonas series lead to 21 with the win game 4 game 4 saw the yankees send orlando hernández to the mound while the diamondbacks elected to bring back curt schilling on three days rest both pitchers gave up home runs with schilling doing so to shane spencer in the third inning and hernandez doing so to mark grace in the fourth hernandez pitched solid innings giving up four hits while schilling went seven innings and gave up three with the game still tied entering the eighth arizona struck after mike stanton recorded the first out of the inning luis gonzalez singled and erubiel durazo hit a double to bring him in matt williams followed by grounding into a fielders choice off of ramiro mendoza which scored pinch runner midre cummings and gave the team a 31 lead with his team on the verge of taking a commanding 31 series lead diamondbacks manager bob brenly elected to bring in closer byunghyun kim in the bottom of the eighth for a twoinning save kim at 22 became the first koreanborn player to play in the mlb world series kim struck out the side in the eighth but ran into trouble in the ninth derek jeter led off by trying to bunt for a hit but was thrown out by williams paul oneill then lined a single in front of gonzalez after bernie williams struck out kim seemed to be out of trouble with tino martinez coming to the plate however martinez drove the first pitch he saw from kim into the rightcenter field bleachers tying the score at 33 the yankees were not done as jorge posada walked and david justice moved him into scoring position with a single kim struck spencer out to end the threat when the scoreboard clock in yankee stadium passed midnight world series play in november began with the message on the scoreboard welcome to november baseball mariano rivera took the hill for the yankees in the tenth and retired the diamondbacks in order kim went out for a third inning of work and retired scott brosius and alfonso soriano but jeter hit an opposite field home run on a 32 pitch count from kim this home run gave the yankees a 43 victory and tied the series at two games apiece which guaranteed a return trip to arizona and made jeter the first player to hit a november home run and earning him the tongueincheek nickname of mr november game 5 game 5 saw the yankees return to mike mussina for the start while the diamondbacks sent miguel batista who had not pitched in twelve days to the mound batista pitched a strong scoreless innings striking out six mussina bounced back from his poor game 1 start recording ten strikeouts but allowed solo home runs in the fifth inning to steve finley and rod barajas with the diamondbacks leading 20 in the ninth byunghyun kim was called upon for the save despite having thrown three innings the night before jorge posada doubled to open the inning but kim got shane spencer to ground out and then struck out chuck knoblauch as had happened the previous night kim could not hold the lead as scott brosius hit a 10 pitch over the left field wall the second straight game tying home run in the bottom of the ninth for the yankees kim was pulled from the game in favor of mike morgan who recorded the final out morgan retired the yankees in order in the 10th and 11th innings while the diamondbacks got to mariano rivera in the 11th danny bautista and erubiel durazo opened the inning with hits and matt williams advanced them into scoring position with a sacrifice bunt rivera then intentionally walked steve finley to load the bases then got reggie sanders to line out and mark grace grounded out to end the inning arizona went to midseason trade acquisition albie lopez in the 12th and in his first at bat he gave up a single to knoblauch who had entered the game as a pinch runner brosius moved him over with a bunt and then alfonso soriano ended the game with an rbi single to give the yankees a 32 victory and a 32 series lead as the series went back to phoenix lopez would not pitch again in the series sterling hitchcock got the win for the yankees after he relieved rivera for the twelfth game 6 with arizona in a mustwin situation randy johnson pitched seven innings and struck out seven giving up just two runs and bobby witt and troy brohawn finished the blowout the diamondbacks struck first when tony womack hit a leadoff double off of andy pettitte and scored on danny bautistas single in the first next inning womacks basesloaded single scored two and bautistas single scored another the yankees loaded the bases in the third on a single and two walks but johnson struck out jorge posada to end the inning the diamondbacks broke the game open with eight runs in the bottom half pettitte allowed a leadoff walk to greg colbrunn and subsequent double to matt williams before being relieved by jay witasick who allowed four straight singles to reggie sanders jay bell damian miller and johnson that scored three runs after womack struck out bautistas single scored two more runs and luis gonzalezs double scored another with bautista being thrown out at home colbrunns single and williamss double scored a run each before sanders struck out to end the inning in the fourth bell reached first on a strikethree wild pitch before scoring on millers double johnson struck out before womack singled to knock witasick out of the game with randy choate pitching yankees second baseman alfonso sorianos error on bautistas ground ball allowed miller to score and put runners on first and second before gonzalezs single scored the diamondbacks final run choate and mike stanton kept them scoreless for the rest of the game pettitte was charged with six runs in two innings while witasick was charged with nine runs in innings the most runs allowed by any pitcher in a world series game since hall of famer walter johnson also allowed nine runs in game 7 of the 1925 world series the yankees scored their only runs in the sixth on backtoback oneout singles by shane spencer and luis sojo with runners on second and third but by then the score had become so far out of reach that it didnt do the yankees much good the diamondbacks hit six doubles and danny bautista batted 3for4 with five rbis the team set a world series record with 22 hits and defeated the new york yankees in its most lopsided postseason loss in 293 postseason games since surpassed by a 161 loss to the boston red sox in game 3 of the 2018 american league division series the 152 win evened the series at three games apiece and set up a game 7 for the ages between roger clemens and curt schilling again pitching on three days rest game 7 it was a matchup of two 20game winners in the series finale roger clemens at 39 years old became the oldest game 7 starter curt schilling had already started two games of the series and pitched his 300th inning of the season on just three days rest the two aces matched each other inning by inning and after seven full innings the game was tied at 11 the diamondbacks scored first in the sixth inning with a steve finley single and a danny bautista double bautista trying to stretch it into a triple was called out at third base the yankees responded with an rbi single from tino martinez which drove in derek jeter who had singled earlier brenly stayed with schilling into the eighth and the move backfired as alfonso soriano hit a home run on an 02 pitch after schilling struck out scott brosius he gave up a single to david justice and he left the game trailing 21 when brenly came to the mound to remove schilling he was heard on the sounds of the game microphone telling his clearly upset pitcher love you brother youre my hero and assuring him that that aint gonna beat us were gonna get that back and then some he then brought in game 5 starter miguel batista to get jeter out and then in an unconventional move brought in the previous nights starter and winner randy johnson who had thrown 104 pitches in relief to keep it a onerun game it proved to be a smart move as johnson retired pinch hitter chuck knoblauch who batted for the left handed paul oneill on a fly out to bautista in right field then returned to the mound for the top of the ninth where he got bernie williams to fly out to steve finley in center field and martinez to ground out to tony womack at shortstop and then struck out catcher jorge posada to send the game to the bottom of the ninth inning with the yankees ahead 21 in the bottom of the eighth manager joe torre turned the game over to his ace closer mariano rivera for a twoinning save rivera struck out the side in the eighth including arizonas luis gonzalez matt williams and bautista although he was effective in the eighth this game would end in the third ninthinning comeback of the series mark grace led off the inning with a single to center on a 10 pitch riveras errant throw to second base on a bunt attempt by catcher damian miller on an 01 pitch put runners on first and second jeter tried to reach for the ball but got tangled in the legs of pinchrunner david dellucci who was sliding in an attempt to break up the double play during the next at bat rivera appeared to regain control when he fielded pinch hitter jay bells who was hitting for johnson bunt and threw out dellucci at third base but third baseman brosius decided to hold onto the baseball instead of throwing to first to complete the double play midre cummings was sent in to pinchrun for damian miller who had reached second base safely with cummings at second and bell at first the next batter womack hit a double down the rightfield line on a 22 pitch that tied the game and earned rivera a blown save his first in a postseason since 1997 bell advanced to third and the yankees pulled the infield and outfield in as the potential winning run bell stood at third with fewer than two outs after rivera hit craig counsell unintentionally with an 01 pitch the bases were loaded on an 01 pitch with williams in the ondeck circle gonzalez lofted a soft floater single over the drawnin jeter that barely reached the outfield grass plating jay bell with the winning run gonzalezs single ended new yorks bid for a fourth consecutive title and brought arizona its first championship in its fourth year of existence making the diamondbacks the fastest expansion team to win a world series beating out the 1997 florida marlins who had done it in their fifth season at that time it was also the first and remains the only major professional sports championship for the state of arizona randy johnson picked up his third win rivera took the loss his only postseason loss in his career coincidentally this was also the second world series in a 5year span 1997 to 2001 to end with a gamewinning rbi single edgar renteria hit the gamewinner in the 1997 series while gonzalez hit it here with craig counsell being on the basepaths for each no other world series has ended with a gamewinning hit since 2001 in 2009 game 7 of the 2001 world series was chosen by sports illustrated as the best postseason game of the decade 20002009 in the years that have followed many fans regardless of team allegiance consider game 7 of the 2001 world series to be one of the greatest games ever played in the history of professional baseball composite box 2001 world series 43 arizona diamondbacks nl over new york yankees al media coverage for the second consecutive year fox carried the world series over its network with its top broadcast team joe buck and tim mccarver himself a yankees broadcaster this was the first year of foxs exclusive rights to the world series in the previous contract fox only broadcast the world series in even numbered years while nbc broadcast it in odd numbered years which it has held since this particular contract also had given fox exclusive rights to the entire baseball postseason which aired over its family of networks the contract was modified following disneys purchase of fox family channel shortly after the world series ended as espn regained their postseason rights following a year of postseason games on abc family fox familys successor espn radio provided national radio coverage for the fourth consecutive year with jon miller and joe morgan calling the action locally the series was broadcast by ktaram in phoenix with thom brennaman greg schulte rod allen and jim traber and by wabcam in new york city with john sterling and michael kay this would be sterling and kays last world series working together and game 7 would be the last yankee broadcast on wabc kay moved to television and the new yes network the following season and wcbs picked up radio rights to the yankees it was kay who announced derek jeters gamewinning home run in game 4 of the series and subsequently anointed him as mr november books and films buster olney who covered the yankees for the new york times before joining espn would write a book titled the last night of the yankee dynasty published in 2004 the book is a play by play account of game 7 in addition to stories about key players executives and moments from the 19962001 dynasty in a 2005 reprinting olney included a new epilogue covering the aftermath of the 2001 world series up to the boston red sox epic comeback from down 30 in the 2004 alcs the official mlb productions documentary film of the series was released in 2001 in 2004 hbo released nine innings from ground zero a documentary focusing on the special role that baseball and particularly the yankees played in helping to heal new york after 911 the film features interviews with players fans who lost family members firefighters sportswriters and george w bush in 2005 aampe home video released the new york yankees fall classic collectors edition 19962001 dvd set game 4 of the 2001 world series is included in the set in 2008 the arizona diamondbacks 2001 world series dvd set was released all seven games are included on this set aftermath riveras blown save and the yankees loss proved to be lifesaving for yankees utility player enrique wilson had the yankees won wilson was planning to fly home to the dominican republic on american airlines flight 587 on november 12 after what would have been a yankees victory parade down the canyon of heroes but after the yankees lost wilson moved up his flight flight 587 would crash in belle harbor queens killing everyone on board rivera later said i am glad we lost the world series because it means that i still have a friend during the offseason several yankees moved on to other teams or retired the most notable changes being the off season trades of martinez and knoblauch to the st louis cardinals and kansas city royals respectively in free agency and brosius and oneill retiring martinez would later return to the yankees to finish his career in 2005 after winning the nl west again in 2002 the diamondbacks were swept 30 by st louis in the nlds from here they declined losing 111 games in 2004 as bob brenly was fired during that season arizona would not win another nl west title until 2007 schilling was traded to the boston red sox after the 2003 season and in 2004 helped lead them to their first world series championship since 1918 he helped them win another championship in 2007 and retired after four years with boston missing the entire 2008 season with a shoulder injury johnson was traded to the yankees after the 2004 season a season that saw him throw a perfect game against the atlanta braves though he would be traded back to the diamondbacks two years later and finish his career with the san francisco giants in 2009 the last player from the 2001 diamondbacks roster lyle overbay retired following the 2014 season with the milwaukee brewers while the last player from the 2001 yankees randy choate retired following the 2016 season from 2002 through 2007 the yankees misfortune in the postseason continued with the team losing the alds to the anaheim angels in 2002 the world series to the florida marlins in 2003 the alcs to the boston red sox in the process becoming the first team in postseason history to blow a 30 series lead in 2004 the alds again to the angels in 2005 and then losing the alds to the detroit tigers and the cleveland indians in 2006 and 2007 respectively in addition including the world series loss in 2001 every world series champion from 2001 to 2004 won the title at the yankees expense in postseason play which is an al record and as of 2023 tied for the mlb record with the los angeles dodgers from 2016 to 2019 joe torres contract was allowed to expire and he was replaced by joe girardi in 2008 a season in which the yankees would miss the playoffs for the first time since 1993 the yankees won their 27th world series championship in 2009 defeating the defending 2008 champion philadelphia phillies in six games but could not pull off another dynasty like they did during the late 1990s and early 2000s in fact they failed to reach the world series during the entirety of the 2010s to date this is the state of arizonas only championship among the four major north american mens professional sports however the wnbas phoenix mercury have won three championships since then 2007 2009 and 2014 the diamondbacks and the baltimore ravens who won the super bowl earlier in 2001 created the first instance of two major sports teams winning a championship game or series on their first attempts this would not occur again until 2019 when the toronto raptors and washington nationals accomplished this feat the diamondbacks would not return to the world series again until 2023 this time they would go on to lose to the texas rangers in five games\n"
     ]
    }
   ],
   "source": [
    "import re\n",
    "\n",
    "def preprocess_text(text):\n",
    "    if pd.isnull(text):\n",
    "        return \"\"\n",
    "    \n",
    "    text = str(text)\n",
    "    \n",
    "    text = re.sub(r'\\s+', ' ', text)  \n",
    "    text = re.sub(r'[^\\w\\s]', '', text) \n",
    "    return text.lower().strip()\n",
    "\n",
    "print(f\"Missing values before processing: {df['text'].isnull().sum()}\")\n",
    "\n",
    "df['text'] = df['text'].fillna('')\n",
    "\n",
    "df['clean_text'] = df['text'].apply(preprocess_text)\n",
    "\n",
    "print(\"\\nSample cleaned text:\")\n",
    "print(df['clean_text'].iloc[0])\n"
   ]
  },
  {
   "cell_type": "code",
   "execution_count": null,
   "metadata": {
    "execution": {
     "iopub.execute_input": "2025-04-08T16:19:48.093274Z",
     "iopub.status.busy": "2025-04-08T16:19:48.092929Z",
     "iopub.status.idle": "2025-04-08T16:20:23.393654Z",
     "shell.execute_reply": "2025-04-08T16:20:23.392943Z",
     "shell.execute_reply.started": "2025-04-08T16:19:48.093241Z"
    },
    "trusted": true
   },
   "outputs": [
    {
     "data": {
      "application/vnd.jupyter.widget-view+json": {
       "model_id": "7d6d636a0f28448c8a426c52bb1f7daa",
       "version_major": 2,
       "version_minor": 0
      },
      "text/plain": [
       "modules.json:   0%|          | 0.00/349 [00:00<?, ?B/s]"
      ]
     },
     "metadata": {},
     "output_type": "display_data"
    },
    {
     "data": {
      "application/vnd.jupyter.widget-view+json": {
       "model_id": "262b8f93800642c4ac6197f8cebe58cd",
       "version_major": 2,
       "version_minor": 0
      },
      "text/plain": [
       "config_sentence_transformers.json:   0%|          | 0.00/116 [00:00<?, ?B/s]"
      ]
     },
     "metadata": {},
     "output_type": "display_data"
    },
    {
     "data": {
      "application/vnd.jupyter.widget-view+json": {
       "model_id": "6829eaf3c9454f6a864d14ad1ac4066e",
       "version_major": 2,
       "version_minor": 0
      },
      "text/plain": [
       "README.md:   0%|          | 0.00/10.4k [00:00<?, ?B/s]"
      ]
     },
     "metadata": {},
     "output_type": "display_data"
    },
    {
     "data": {
      "application/vnd.jupyter.widget-view+json": {
       "model_id": "5840ab6b627f40c0ab7082dd9eb15e3e",
       "version_major": 2,
       "version_minor": 0
      },
      "text/plain": [
       "sentence_bert_config.json:   0%|          | 0.00/53.0 [00:00<?, ?B/s]"
      ]
     },
     "metadata": {},
     "output_type": "display_data"
    },
    {
     "data": {
      "application/vnd.jupyter.widget-view+json": {
       "model_id": "5629e4a71e4040248d51c6e473ba5676",
       "version_major": 2,
       "version_minor": 0
      },
      "text/plain": [
       "config.json:   0%|          | 0.00/571 [00:00<?, ?B/s]"
      ]
     },
     "metadata": {},
     "output_type": "display_data"
    },
    {
     "data": {
      "application/vnd.jupyter.widget-view+json": {
       "model_id": "9a4067501b664b9096be212f833ecb64",
       "version_major": 2,
       "version_minor": 0
      },
      "text/plain": [
       "model.safetensors:   0%|          | 0.00/438M [00:00<?, ?B/s]"
      ]
     },
     "metadata": {},
     "output_type": "display_data"
    },
    {
     "data": {
      "application/vnd.jupyter.widget-view+json": {
       "model_id": "384bf5b1235b4dae83b5e8cca5a25e3a",
       "version_major": 2,
       "version_minor": 0
      },
      "text/plain": [
       "tokenizer_config.json:   0%|          | 0.00/363 [00:00<?, ?B/s]"
      ]
     },
     "metadata": {},
     "output_type": "display_data"
    },
    {
     "data": {
      "application/vnd.jupyter.widget-view+json": {
       "model_id": "503d77e3ec9840e7b207aac8dd3a3be9",
       "version_major": 2,
       "version_minor": 0
      },
      "text/plain": [
       "vocab.txt:   0%|          | 0.00/232k [00:00<?, ?B/s]"
      ]
     },
     "metadata": {},
     "output_type": "display_data"
    },
    {
     "data": {
      "application/vnd.jupyter.widget-view+json": {
       "model_id": "a78d6c750da84d8db9c6395bbc75d19f",
       "version_major": 2,
       "version_minor": 0
      },
      "text/plain": [
       "tokenizer.json:   0%|          | 0.00/466k [00:00<?, ?B/s]"
      ]
     },
     "metadata": {},
     "output_type": "display_data"
    },
    {
     "data": {
      "application/vnd.jupyter.widget-view+json": {
       "model_id": "b563ee80fffd4121b1ad036086aeb133",
       "version_major": 2,
       "version_minor": 0
      },
      "text/plain": [
       "special_tokens_map.json:   0%|          | 0.00/239 [00:00<?, ?B/s]"
      ]
     },
     "metadata": {},
     "output_type": "display_data"
    },
    {
     "data": {
      "application/vnd.jupyter.widget-view+json": {
       "model_id": "e247d09df2fb499b951eeecb52a5c956",
       "version_major": 2,
       "version_minor": 0
      },
      "text/plain": [
       "config.json:   0%|          | 0.00/190 [00:00<?, ?B/s]"
      ]
     },
     "metadata": {},
     "output_type": "display_data"
    }
   ],
   "source": [
    "from sentence_transformers import SentenceTransformer\n",
    "\n",
    "model = SentenceTransformer('all-mpnet-base-v2')  # 768-dim"
   ]
  },
  {
   "cell_type": "code",
   "execution_count": null,
   "metadata": {
    "execution": {
     "iopub.execute_input": "2025-04-08T16:20:23.395102Z",
     "iopub.status.busy": "2025-04-08T16:20:23.394431Z",
     "iopub.status.idle": "2025-04-08T17:39:16.417774Z",
     "shell.execute_reply": "2025-04-08T17:39:16.417078Z",
     "shell.execute_reply.started": "2025-04-08T16:20:23.395077Z"
    },
    "trusted": true
   },
   "outputs": [
    {
     "data": {
      "application/vnd.jupyter.widget-view+json": {
       "model_id": "3069f5d051094319bf5363698bc7afa7",
       "version_major": 2,
       "version_minor": 0
      },
      "text/plain": [
       "  0%|          | 0/13688 [00:00<?, ?it/s]"
      ]
     },
     "metadata": {},
     "output_type": "display_data"
    }
   ],
   "source": [
    "import torch\n",
    "from tqdm.auto import tqdm\n",
    "\n",
    "doc_embeddings = []\n",
    "batch_size = 32\n",
    "\n",
    "for i in tqdm(range(0, len(df), batch_size)):\n",
    "    batch = df['clean_text'].iloc[i:i+batch_size].tolist()\n",
    "    with torch.no_grad():\n",
    "        embeddings = model.encode(batch, show_progress_bar=False)\n",
    "    doc_embeddings.extend(embeddings)\n",
    "\n",
    "df['embedding'] = doc_embeddings\n"
   ]
  },
  {
   "cell_type": "code",
   "execution_count": 12,
   "metadata": {
    "execution": {
     "iopub.execute_input": "2025-04-08T17:40:14.457029Z",
     "iopub.status.busy": "2025-04-08T17:40:14.456707Z",
     "iopub.status.idle": "2025-04-08T17:40:19.963176Z",
     "shell.execute_reply": "2025-04-08T17:40:19.962247Z",
     "shell.execute_reply.started": "2025-04-08T17:40:14.457004Z"
    },
    "trusted": true
   },
   "outputs": [
    {
     "name": "stdout",
     "output_type": "stream",
     "text": [
      "Collecting faiss-cpu\n",
      "  Downloading faiss_cpu-1.10.0-cp310-cp310-manylinux_2_28_x86_64.whl.metadata (4.4 kB)\n",
      "Requirement already satisfied: numpy<3.0,>=1.25.0 in /usr/local/lib/python3.10/dist-packages (from faiss-cpu) (1.26.4)\n",
      "Requirement already satisfied: packaging in /usr/local/lib/python3.10/dist-packages (from faiss-cpu) (24.2)\n",
      "Requirement already satisfied: mkl_fft in /usr/local/lib/python3.10/dist-packages (from numpy<3.0,>=1.25.0->faiss-cpu) (1.3.8)\n",
      "Requirement already satisfied: mkl_random in /usr/local/lib/python3.10/dist-packages (from numpy<3.0,>=1.25.0->faiss-cpu) (1.2.4)\n",
      "Requirement already satisfied: mkl_umath in /usr/local/lib/python3.10/dist-packages (from numpy<3.0,>=1.25.0->faiss-cpu) (0.1.1)\n",
      "Requirement already satisfied: mkl in /usr/local/lib/python3.10/dist-packages (from numpy<3.0,>=1.25.0->faiss-cpu) (2025.0.1)\n",
      "Requirement already satisfied: tbb4py in /usr/local/lib/python3.10/dist-packages (from numpy<3.0,>=1.25.0->faiss-cpu) (2022.0.0)\n",
      "Requirement already satisfied: mkl-service in /usr/local/lib/python3.10/dist-packages (from numpy<3.0,>=1.25.0->faiss-cpu) (2.4.1)\n",
      "Requirement already satisfied: intel-openmp>=2024 in /usr/local/lib/python3.10/dist-packages (from mkl->numpy<3.0,>=1.25.0->faiss-cpu) (2024.2.0)\n",
      "Requirement already satisfied: tbb==2022.* in /usr/local/lib/python3.10/dist-packages (from mkl->numpy<3.0,>=1.25.0->faiss-cpu) (2022.0.0)\n",
      "Requirement already satisfied: tcmlib==1.* in /usr/local/lib/python3.10/dist-packages (from tbb==2022.*->mkl->numpy<3.0,>=1.25.0->faiss-cpu) (1.2.0)\n",
      "Requirement already satisfied: intel-cmplr-lib-rt in /usr/local/lib/python3.10/dist-packages (from mkl_umath->numpy<3.0,>=1.25.0->faiss-cpu) (2024.2.0)\n",
      "Requirement already satisfied: intel-cmplr-lib-ur==2024.2.0 in /usr/local/lib/python3.10/dist-packages (from intel-openmp>=2024->mkl->numpy<3.0,>=1.25.0->faiss-cpu) (2024.2.0)\n",
      "Downloading faiss_cpu-1.10.0-cp310-cp310-manylinux_2_28_x86_64.whl (30.7 MB)\n",
      "\u001b[2K   \u001b[90m━━━━━━━━━━━━━━━━━━━━━━━━━━━━━━━━━━━━━━━━\u001b[0m \u001b[32m30.7/30.7 MB\u001b[0m \u001b[31m59.1 MB/s\u001b[0m eta \u001b[36m0:00:00\u001b[0m:00:01\u001b[0m00:01\u001b[0m\n",
      "\u001b[?25hInstalling collected packages: faiss-cpu\n",
      "Successfully installed faiss-cpu-1.10.0\n"
     ]
    }
   ],
   "source": [
    "!pip install faiss-cpu"
   ]
  },
  {
   "cell_type": "code",
   "execution_count": null,
   "metadata": {
    "execution": {
     "iopub.execute_input": "2025-04-08T17:42:18.348434Z",
     "iopub.status.busy": "2025-04-08T17:42:18.348087Z",
     "iopub.status.idle": "2025-04-08T17:42:20.941090Z",
     "shell.execute_reply": "2025-04-08T17:42:20.940040Z",
     "shell.execute_reply.started": "2025-04-08T17:42:18.348407Z"
    },
    "trusted": true
   },
   "outputs": [],
   "source": [
    "import faiss\n",
    "import numpy as np\n",
    "\n",
    "embeddings_array = np.array(df['embedding'].tolist()).astype('float32')\n",
    "\n",
    "dimension = embeddings_array.shape[1]\n",
    "index = faiss.IndexFlatIP(dimension)\n",
    "faiss.normalize_L2(embeddings_array)\n",
    "index.add(embeddings_array)\n"
   ]
  },
  {
   "cell_type": "code",
   "execution_count": 16,
   "metadata": {
    "execution": {
     "iopub.execute_input": "2025-04-08T17:43:17.978921Z",
     "iopub.status.busy": "2025-04-08T17:43:17.978531Z",
     "iopub.status.idle": "2025-04-08T17:43:17.985741Z",
     "shell.execute_reply": "2025-04-08T17:43:17.985035Z",
     "shell.execute_reply.started": "2025-04-08T17:43:17.978895Z"
    },
    "trusted": true
   },
   "outputs": [
    {
     "data": {
      "text/plain": [
       "id                                                         3864\n",
       "revid                                                1185941266\n",
       "url                    https://en.wikipedia.org/wiki?curid=3864\n",
       "title                                         2001 World Series\n",
       "text          The 2001 World Series was the championship ser...\n",
       "clean_text    the 2001 world series was the championship ser...\n",
       "embedding     [-0.052457873, -0.017308295, 0.0279646, 0.0233...\n",
       "Name: 0, dtype: object"
      ]
     },
     "execution_count": 16,
     "metadata": {},
     "output_type": "execute_result"
    }
   ],
   "source": [
    "df.iloc[0]"
   ]
  },
  {
   "cell_type": "code",
   "execution_count": null,
   "metadata": {
    "execution": {
     "iopub.execute_input": "2025-04-08T18:17:49.515320Z",
     "iopub.status.busy": "2025-04-08T18:17:49.514939Z",
     "iopub.status.idle": "2025-04-08T18:17:50.957804Z",
     "shell.execute_reply": "2025-04-08T18:17:50.957039Z",
     "shell.execute_reply.started": "2025-04-08T18:17:49.515292Z"
    },
    "trusted": true
   },
   "outputs": [
    {
     "name": "stdout",
     "output_type": "stream",
     "text": [
      "Number of vectors in the index: 437998\n"
     ]
    }
   ],
   "source": [
    "import faiss\n",
    "import numpy as np\n",
    "\n",
    "faiss.normalize_L2(embeddings_array)\n",
    "\n",
    "dimension = embeddings_array.shape[1]  \n",
    "index = faiss.IndexFlatIP(dimension)  \n",
    "\n",
    "index.add(embeddings_array)\n",
    "\n",
    "print(f\"Number of vectors in the index: {index.ntotal}\")\n"
   ]
  },
  {
   "cell_type": "code",
   "execution_count": null,
   "metadata": {
    "execution": {
     "iopub.execute_input": "2025-04-08T18:18:13.670090Z",
     "iopub.status.busy": "2025-04-08T18:18:13.669760Z",
     "iopub.status.idle": "2025-04-08T18:18:13.791658Z",
     "shell.execute_reply": "2025-04-08T18:18:13.791009Z",
     "shell.execute_reply.started": "2025-04-08T18:18:13.670063Z"
    },
    "trusted": true
   },
   "outputs": [
    {
     "name": "stdout",
     "output_type": "stream",
     "text": [
      "Distances: [[0.06125414 0.05786442 0.05755398 0.05746093 0.05599687]]\n",
      "Indices: [[137278 428664 290071 160028 168779]]\n"
     ]
    }
   ],
   "source": [
    "def semantic_search(query_embedding, index, top_k=5):\n",
    "    \"\"\"\n",
    "    Perform semantic search using FAISS index.\n",
    "    \n",
    "    Parameters:\n",
    "    - query_embedding: numpy array of shape (1, dimension)\n",
    "    - index: FAISS index object\n",
    "    - top_k: Number of top results to retrieve\n",
    "    \n",
    "    Returns:\n",
    "    - distances: List of distances to top_k results\n",
    "    - indices: List of indices of top_k results\n",
    "    \"\"\"\n",
    "    faiss.normalize_L2(query_embedding)  # normaliztion\n",
    "    distances, indices = index.search(query_embedding, top_k)\n",
    "    return distances, indices\n",
    "\n",
    "query_embedding = np.random.rand(1, dimension).astype('float32')\n",
    "\n",
    "distances, indices = semantic_search(query_embedding, index, top_k=5)\n",
    "\n",
    "print(\"Distances:\", distances)\n",
    "print(\"Indices:\", indices)\n"
   ]
  },
  {
   "cell_type": "code",
   "execution_count": null,
   "metadata": {
    "execution": {
     "iopub.execute_input": "2025-04-08T18:18:24.641428Z",
     "iopub.status.busy": "2025-04-08T18:18:24.641127Z",
     "iopub.status.idle": "2025-04-08T18:18:24.650308Z",
     "shell.execute_reply": "2025-04-08T18:18:24.648530Z",
     "shell.execute_reply.started": "2025-04-08T18:18:24.641402Z"
    },
    "trusted": true
   },
   "outputs": [
    {
     "name": "stdout",
     "output_type": "stream",
     "text": [
      "Title: 2015 in public domain\n",
      "URL: https://en.wikipedia.org/wiki?curid=42644836\n",
      "Text Snippet: This is a list of authors whose works enter the public domain in part of the world in 2015.\n",
      "Entering the public domain in Europe.\n",
      "A work enters the public domain in most European countries (with the e...\n",
      "--------------------------------------------------------------------------------\n",
      "Title: 2-day CPET\n",
      "URL: https://en.wikipedia.org/wiki?curid=74545453\n",
      "Text Snippet: A 2-day CPET is a cardiopulmonary exercise test given on two successive days to measure the effect of post-exertional malaise (PEM) on a patient's ability to exercise. PEM is a cardinal symptom of mya...\n",
      "--------------------------------------------------------------------------------\n",
      "Title: 2019 Compostela Valley renaming plebiscite\n",
      "URL: https://en.wikipedia.org/wiki?curid=62536277\n",
      "Text Snippet: On December 7, 2019, a plebiscite was held to determine if residents of the Philippine province of Compostela Valley approve the renaming of their province to Davao de Oro.\n",
      "Background.\n",
      "The province of...\n",
      "--------------------------------------------------------------------------------\n",
      "Title: 2016 in public domain\n",
      "URL: https://en.wikipedia.org/wiki?curid=47411912\n",
      "Text Snippet: When a work's copyright expires, it enters the public domain. The following is a list of works that entered the public domain in 2016. Since laws vary globally, the copyright status of some works are ...\n",
      "--------------------------------------------------------------------------------\n",
      "Title: 2013 Davao Occidental creation plebiscite\n",
      "URL: https://en.wikipedia.org/wiki?curid=49239917\n",
      "Text Snippet: On October 28, 2013, residents of Davao del Sur voted in a plebiscite to approve or disapprove the creation of the then proposed province of Davao Occidental.\n",
      "Background.\n",
      "The creation of Davao Occiden...\n",
      "--------------------------------------------------------------------------------\n"
     ]
    }
   ],
   "source": [
    "results = df.iloc[indices[0]]  # Fetch rows corresponding to the top-k indices\n",
    "\n",
    "for i, row in results.iterrows():\n",
    "    print(f\"Title: {row['title']}\")\n",
    "    print(f\"URL: {row['url']}\")\n",
    "    print(f\"Text Snippet: {row['text'][:200]}...\")  \n",
    "    print(\"-\" * 80)\n"
   ]
  },
  {
   "cell_type": "code",
   "execution_count": null,
   "metadata": {
    "execution": {
     "iopub.execute_input": "2025-04-08T18:18:48.177381Z",
     "iopub.status.busy": "2025-04-08T18:18:48.177098Z",
     "iopub.status.idle": "2025-04-08T18:18:51.978428Z",
     "shell.execute_reply": "2025-04-08T18:18:51.977797Z",
     "shell.execute_reply.started": "2025-04-08T18:18:48.177360Z"
    },
    "trusted": true
   },
   "outputs": [
    {
     "data": {
      "application/vnd.jupyter.widget-view+json": {
       "model_id": "0e5532c66cce4e2ba863df5e29a9d76a",
       "version_major": 2,
       "version_minor": 0
      },
      "text/plain": [
       "Batches:   0%|          | 0/1 [00:00<?, ?it/s]"
      ]
     },
     "metadata": {},
     "output_type": "display_data"
    },
    {
     "name": "stdout",
     "output_type": "stream",
     "text": [
      "Title: 2001 Senior League World Series\n",
      "URL: https://en.wikipedia.org/wiki?curid=47526671\n",
      "Text Snippet: The 2001 Senior League World Series took place from August 12–18 in Kissimmee, Florida, United States. Palm Harbor, Florida defeated Maracaibo, Venezuela in the championship game. \n",
      "This was the final ...\n",
      "--------------------------------------------------------------------------------\n",
      "Title: 2001 Conference USA baseball tournament\n",
      "URL: https://en.wikipedia.org/wiki?curid=36219546\n",
      "Text Snippet: The 2001 Conference USA baseball tournament was the 2001 postseason baseball championship of the NCAA Division I Conference USA, held at Zephyr Field in New Orleans, Louisiana, from May 16 through 20....\n",
      "--------------------------------------------------------------------------------\n",
      "Title: 2001 International League season\n",
      "URL: https://en.wikipedia.org/wiki?curid=22122231\n",
      "Text Snippet: The 2001 International League season took place from April to September 2001.\n",
      "The Louisville Bats defeated the Scranton/Wilkes-Barre Red Barons to win the league championship, also known as the Govern...\n",
      "--------------------------------------------------------------------------------\n",
      "Title: 2001 NCAA Division I baseball tournament\n",
      "URL: https://en.wikipedia.org/wiki?curid=15969945\n",
      "Text Snippet: The 2001 NCAA Division I baseball tournament was played at the end of the 2001 NCAA Division I baseball season to determine the national champion of college baseball. The tournament concluded with eig...\n",
      "--------------------------------------------------------------------------------\n",
      "Title: 2001 Big League World Series\n",
      "URL: https://en.wikipedia.org/wiki?curid=47412914\n",
      "Text Snippet: The 2001 Big League World Series youth baseball tournament took place from August 4–11 in Easley, South Carolina, U.S. Westminster, California, U.S., defeated Valencia, Venezuela, in the championship ...\n",
      "--------------------------------------------------------------------------------\n"
     ]
    }
   ],
   "source": [
    "query = \"Baseball championship 2001\"  \n",
    "\n",
    "from sentence_transformers import SentenceTransformer\n",
    "\n",
    "model = SentenceTransformer('all-mpnet-base-v2')\n",
    "query_embedding = model.encode([query]).astype('float32')\n",
    "\n",
    "distances, indices = semantic_search(query_embedding.reshape(1, -1), index, top_k=5)\n",
    "\n",
    "results = df.iloc[indices[0]]\n",
    "for i, row in results.iterrows():\n",
    "    print(f\"Title: {row['title']}\")\n",
    "    print(f\"URL: {row['url']}\")\n",
    "    print(f\"Text Snippet: {row['text'][:200]}...\")\n",
    "    print(\"-\" * 80)\n"
   ]
  },
  {
   "cell_type": "code",
   "execution_count": null,
   "metadata": {
    "trusted": true
   },
   "outputs": [],
   "source": []
  }
 ],
 "metadata": {
  "kaggle": {
   "accelerator": "gpu",
   "dataSources": [
    {
     "datasetId": 3630767,
     "sourceId": 7213679,
     "sourceType": "datasetVersion"
    }
   ],
   "dockerImageVersionId": 30918,
   "isGpuEnabled": true,
   "isInternetEnabled": true,
   "language": "python",
   "sourceType": "notebook"
  },
  "kernelspec": {
   "display_name": "Python 3",
   "language": "python",
   "name": "python3"
  },
  "language_info": {
   "codemirror_mode": {
    "name": "ipython",
    "version": 3
   },
   "file_extension": ".py",
   "mimetype": "text/x-python",
   "name": "python",
   "nbconvert_exporter": "python",
   "pygments_lexer": "ipython3",
   "version": "3.10.12"
  }
 },
 "nbformat": 4,
 "nbformat_minor": 4
}
